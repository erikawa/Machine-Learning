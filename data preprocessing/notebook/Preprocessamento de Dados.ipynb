{
 "cells": [
  {
   "cell_type": "markdown",
   "metadata": {},
   "source": [
    "# Data Preprocessing\n",
    "\n",
    "Preprocessamento dos dados para aplicar ao modelo de dados de Machine Learning\n",
    "\n",
    "### Importar as bibliotecas\n",
    "\n",
    "O primeiro passo é importar as bibliotecas utilizadas que são:\n",
    "* numpy;\n",
    "* matplotlib.pyplot;\n",
    "* pandas;"
   ]
  },
  {
   "cell_type": "code",
   "execution_count": 2,
   "metadata": {
    "collapsed": false
   },
   "outputs": [],
   "source": [
    "import numpy as np\n",
    "import matplotlib.pyplot as plt\n",
    "import pandas as pd"
   ]
  },
  {
   "cell_type": "markdown",
   "metadata": {},
   "source": [
    "### Criando matriz de amostras\n",
    "\n",
    "O dataset utilizado contém as colunas: {'**Country**', '**Age**', '**Salary**', '**Purchased**'}"
   ]
  },
  {
   "cell_type": "code",
   "execution_count": 3,
   "metadata": {
    "collapsed": true
   },
   "outputs": [],
   "source": [
    "np.set_printoptions(threshold=np.nan, formatter={'float': '{: 0.0f}'.format})\n",
    "dataset = pd.read_csv('../resource/Data.csv')"
   ]
  },
  {
   "cell_type": "markdown",
   "metadata": {},
   "source": [
    "Agora precisamos separar as amostras independentes e as amostras dependentes.\n",
    "As amostras independentes são informações que a princípio não tem relações entre sí, por isso as três primeiras colunas serão minhas amostras independentes."
   ]
  },
  {
   "cell_type": "code",
   "execution_count": 4,
   "metadata": {
    "collapsed": false
   },
   "outputs": [
    {
     "data": {
      "text/plain": [
       "array([['France', 44.0, 72000.0],\n",
       "       ['Spain', 27.0, 48000.0],\n",
       "       ['Germany', 30.0, 54000.0],\n",
       "       ['Spain', 38.0, 61000.0],\n",
       "       ['Germany', 40.0, nan],\n",
       "       ['France', 35.0, 58000.0],\n",
       "       ['Spain', nan, 52000.0],\n",
       "       ['France', 48.0, 79000.0],\n",
       "       ['Germany', 50.0, 83000.0],\n",
       "       ['France', 37.0, 67000.0]], dtype=object)"
      ]
     },
     "execution_count": 4,
     "metadata": {},
     "output_type": "execute_result"
    }
   ],
   "source": [
    "X = dataset.iloc[:, :-1].values\n",
    "X"
   ]
  },
  {
   "cell_type": "markdown",
   "metadata": {},
   "source": [
    "A interação das amostras intependentes resultam nas amostras dependentes. Ou seja, representa a última coluna do nosso dataset"
   ]
  },
  {
   "cell_type": "code",
   "execution_count": 5,
   "metadata": {
    "collapsed": false
   },
   "outputs": [
    {
     "data": {
      "text/plain": [
       "array(['No', 'Yes', 'No', 'No', 'Yes', 'Yes', 'No', 'Yes', 'No', 'Yes'], dtype=object)"
      ]
     },
     "execution_count": 5,
     "metadata": {},
     "output_type": "execute_result"
    }
   ],
   "source": [
    "y = dataset.iloc[:, 3].values\n",
    "y"
   ]
  },
  {
   "cell_type": "markdown",
   "metadata": {},
   "source": [
    "### Dados Faltantes\n",
    "\n",
    "Para criar um modelo de dados que será analisado pelo código de machine learning é necessário tratar os dados faltantes do dataset."
   ]
  },
  {
   "cell_type": "code",
   "execution_count": 6,
   "metadata": {
    "collapsed": false
   },
   "outputs": [
    {
     "data": {
      "text/plain": [
       "array([['France', 44.0, 72000.0],\n",
       "       ['Spain', 27.0, 48000.0],\n",
       "       ['Germany', 30.0, 54000.0],\n",
       "       ['Spain', 38.0, 61000.0],\n",
       "       ['Germany', 40.0, nan],\n",
       "       ['France', 35.0, 58000.0],\n",
       "       ['Spain', nan, 52000.0],\n",
       "       ['France', 48.0, 79000.0],\n",
       "       ['Germany', 50.0, 83000.0],\n",
       "       ['France', 37.0, 67000.0]], dtype=object)"
      ]
     },
     "execution_count": 6,
     "metadata": {},
     "output_type": "execute_result"
    }
   ],
   "source": [
    "X"
   ]
  },
  {
   "cell_type": "markdown",
   "metadata": {},
   "source": [
    "Como pode ser observado acima alguns dados estão faltando no dataset.\n",
    "Existem alguns métodos para tratar os dados faltantes:\n",
    "* Deletar as linhas com os dados faltantes, mas isso afeta o modelo de dados, pois o resultado vai perder a precisão;\n",
    "* Substituir os dados faltantes com a média dos valores da coluna, esse é um dos métodos mais utilizados;\n"
   ]
  },
  {
   "cell_type": "code",
   "execution_count": 7,
   "metadata": {
    "collapsed": false
   },
   "outputs": [
    {
     "data": {
      "text/plain": [
       "array([['France', 44.0, 72000.0],\n",
       "       ['Spain', 27.0, 48000.0],\n",
       "       ['Germany', 30.0, 54000.0],\n",
       "       ['Spain', 38.0, 61000.0],\n",
       "       ['Germany', 40.0, 63777.77777777778],\n",
       "       ['France', 35.0, 58000.0],\n",
       "       ['Spain', 38.77777777777778, 52000.0],\n",
       "       ['France', 48.0, 79000.0],\n",
       "       ['Germany', 50.0, 83000.0],\n",
       "       ['France', 37.0, 67000.0]], dtype=object)"
      ]
     },
     "execution_count": 7,
     "metadata": {},
     "output_type": "execute_result"
    }
   ],
   "source": [
    "from sklearn.preprocessing import Imputer\n",
    "imputer = Imputer(missing_values = 'NaN', strategy = 'mean', axis = 0)\n",
    "imputer = imputer.fit(X[:, 1:3])\n",
    "X[:, 1:3] = imputer.transform(X[:, 1:3])\n",
    "X"
   ]
  },
  {
   "cell_type": "markdown",
   "metadata": {},
   "source": [
    "Depois de substituir os dados faltantes com a média de suas respectivas colunas temos o resultado acima"
   ]
  },
  {
   "cell_type": "markdown",
   "metadata": {},
   "source": [
    "### Variáveis Categóricas\n",
    "Variáveis categóricas são dados que podem ser divididos em categorias, como por exemplo, no dataset as colunas **Country** \n",
    "e **Purchased** possúem variáveis categóricas:\n",
    "1. Coluna **Country**: Possui 3 países diferentes (3 categorias);\n",
    "2. Coluna **Purchased**: Possui 2 opções (S/N) (2 categorias);\n",
    "\n",
    "#### Colunas Independentes\n",
    "Basicamente, preciso trocas textos por números para que o algorítmo de classificação entenda o modelo.\n",
    "Para isso o primeiro passo é transformar a coluna **Country** em categorias:"
   ]
  },
  {
   "cell_type": "code",
   "execution_count": 8,
   "metadata": {
    "collapsed": false
   },
   "outputs": [
    {
     "data": {
      "text/plain": [
       "array([[0, 44.0, 72000.0],\n",
       "       [2, 27.0, 48000.0],\n",
       "       [1, 30.0, 54000.0],\n",
       "       [2, 38.0, 61000.0],\n",
       "       [1, 40.0, 63777.77777777778],\n",
       "       [0, 35.0, 58000.0],\n",
       "       [2, 38.77777777777778, 52000.0],\n",
       "       [0, 48.0, 79000.0],\n",
       "       [1, 50.0, 83000.0],\n",
       "       [0, 37.0, 67000.0]], dtype=object)"
      ]
     },
     "execution_count": 8,
     "metadata": {},
     "output_type": "execute_result"
    }
   ],
   "source": [
    "from sklearn.preprocessing import LabelEncoder, OneHotEncoder\n",
    "labelencoder_X = LabelEncoder()\n",
    "X[:, 0] = labelencoder_X.fit_transform(X[:, 0])\n",
    "X"
   ]
  },
  {
   "cell_type": "markdown",
   "metadata": {
    "collapsed": true
   },
   "source": [
    "Como mostra no resultado acima os países foram substituidos por 3 categorias {0, 1 e 2}.\n",
    "Mas ainda há um **problema**, da maneira como está esse dataset o algoritmo irá entender que existe uma relação de grandeza atrelado a esses números. Para evitar isso temos que criar uma coluna para cada categoria, como mostra no exemplo abaixo:"
   ]
  },
  {
   "cell_type": "code",
   "execution_count": 9,
   "metadata": {
    "collapsed": false
   },
   "outputs": [
    {
     "data": {
      "text/plain": [
       "array([[ 1,  0,  0,  44,  72000],\n",
       "       [ 0,  0,  1,  27,  48000],\n",
       "       [ 0,  1,  0,  30,  54000],\n",
       "       [ 0,  0,  1,  38,  61000],\n",
       "       [ 0,  1,  0,  40,  63778],\n",
       "       [ 1,  0,  0,  35,  58000],\n",
       "       [ 0,  0,  1,  39,  52000],\n",
       "       [ 1,  0,  0,  48,  79000],\n",
       "       [ 0,  1,  0,  50,  83000],\n",
       "       [ 1,  0,  0,  37,  67000]])"
      ]
     },
     "execution_count": 9,
     "metadata": {},
     "output_type": "execute_result"
    }
   ],
   "source": [
    "oneHotEncoder = OneHotEncoder(categorical_features = [0])\n",
    "X = oneHotEncoder.fit_transform(X).toarray()\n",
    "X"
   ]
  },
  {
   "cell_type": "markdown",
   "metadata": {},
   "source": [
    "Agora as categorias estão definidas de forma correta, a coluna *Country* se transformou em 3 colunas,\n",
    "cada uma representando um país.\n",
    "\n",
    "#### Colunas Dependentes\n",
    "\n",
    "Agora precisamos fazer o mesmo com a coluna de amostras dependentes, ou a coluna dos resultados"
   ]
  },
  {
   "cell_type": "code",
   "execution_count": 10,
   "metadata": {
    "collapsed": false
   },
   "outputs": [
    {
     "data": {
      "text/plain": [
       "array([0, 1, 0, 0, 1, 1, 0, 1, 0, 1], dtype=int64)"
      ]
     },
     "execution_count": 10,
     "metadata": {},
     "output_type": "execute_result"
    }
   ],
   "source": [
    "labelencoder_y = LabelEncoder()\n",
    "y = labelencoder_y.fit_transform(y)\n",
    "y"
   ]
  },
  {
   "cell_type": "markdown",
   "metadata": {},
   "source": [
    "Pronto! Agora a coluna de amostras dependentes estão categorizadas"
   ]
  },
  {
   "cell_type": "markdown",
   "metadata": {
    "collapsed": true
   },
   "source": [
    "### Amostras para treino e testes\n",
    "\n",
    "Para validar o modelo de dados precisamos criar 2 amostras, uma para **teste** e outra para **treino**.\n",
    "A amostra de *treino* será utilizada para treinar nosso modelo de aprendizado de máquina,\n",
    "enquanto a amostra de *teste* será utilizada para testar se nosso modelo está ou não atendendo as expectativas"
   ]
  },
  {
   "cell_type": "code",
   "execution_count": 11,
   "metadata": {
    "collapsed": false
   },
   "outputs": [],
   "source": [
    "from sklearn.cross_validation import train_test_split\n",
    "X_train, X_test, y_train, y_test = train_test_split(X, y, test_size = 0.2, random_state = 0)"
   ]
  },
  {
   "cell_type": "markdown",
   "metadata": {},
   "source": [
    "#### Normalizando as amostras\n",
    "\n",
    "Para alguns datasets é necessário normalizar as amostras antes de aplicar o modelo de aprendizado de máquina.\n",
    "Normalizar as amostras significa tornar as amostras na mesma escala. "
   ]
  },
  {
   "cell_type": "code",
   "execution_count": 13,
   "metadata": {
    "collapsed": false
   },
   "outputs": [
    {
     "data": {
      "text/plain": [
       "array([[-1,  3, -1,  0,  0],\n",
       "       [ 1, -0, -1, -0,  0],\n",
       "       [-1, -0,  1, -2, -2],\n",
       "       [-1, -0,  1,  0, -1],\n",
       "       [ 1, -0, -1,  2,  2],\n",
       "       [-1, -0,  1, -0, -0],\n",
       "       [ 1, -0, -1,  1,  1],\n",
       "       [ 1, -0, -1, -1, -0]])"
      ]
     },
     "execution_count": 13,
     "metadata": {},
     "output_type": "execute_result"
    }
   ],
   "source": [
    "from sklearn.preprocessing import StandardScaler\n",
    "sc_X = StandardScaler()\n",
    "X_train = sc_X.fit_transform(X_train);\n",
    "X_test = sc_X.transform(X_test);\n",
    "X_train"
   ]
  },
  {
   "cell_type": "code",
   "execution_count": null,
   "metadata": {
    "collapsed": true
   },
   "outputs": [],
   "source": []
  }
 ],
 "metadata": {
  "kernelspec": {
   "display_name": "Python 3",
   "language": "python",
   "name": "python3"
  },
  "language_info": {
   "codemirror_mode": {
    "name": "ipython",
    "version": 3
   },
   "file_extension": ".py",
   "mimetype": "text/x-python",
   "name": "python",
   "nbconvert_exporter": "python",
   "pygments_lexer": "ipython3",
   "version": "3.6.0"
  }
 },
 "nbformat": 4,
 "nbformat_minor": 2
}
